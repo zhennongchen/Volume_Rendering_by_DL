{
 "cells": [
  {
   "cell_type": "code",
   "execution_count": 1,
   "metadata": {},
   "outputs": [],
   "source": [
    "import os\n",
    "import numpy as np\n",
    "import function_list_VR as ff\n",
    "import shutil\n",
    "import pandas as pd"
   ]
  },
  {
   "cell_type": "markdown",
   "metadata": {},
   "source": [
    "# File Copy"
   ]
  },
  {
   "cell_type": "code",
   "execution_count": 3,
   "metadata": {},
   "outputs": [
    {
     "name": "stdout",
     "output_type": "stream",
     "text": [
      "313\n"
     ]
    }
   ],
   "source": [
    "main_folder = '/Volumes/Seagate MacOS/Volume_Rendering_Movies_MATLAB'\n",
    "patient_list = ff.find_all_target_files(['Abnormal/*','Normal/*'],main_folder)\n",
    "print(len(patient_list))\n",
    "\n",
    "for p in patient_list:\n",
    "    patient_id = os.path.basename(p)\n",
    "    patient_class = os.path.basename(os.path.dirname(p))\n",
    "    \n",
    "    \n",
    "    movie_folder = os.path.join(p,'Volume_Rendering_Movies')\n",
    "    \n",
    "    destination_folder = os.path.join(main_folder,'avi_movie_collection',patient_class,patient_id)\n",
    "    ff.make_folder([destination_folder])\n",
    "    \n",
    "    if os.path.isdir(os.path.join(destination_folder,'Volume_Rendering_Movies')) == 0:\n",
    "        print(patient_class,patient_id)\n",
    "        shutil.copytree(movie_folder,os.path.join(destination_folder,'Volume_Rendering_Movies'))"
   ]
  },
  {
   "cell_type": "code",
   "execution_count": null,
   "metadata": {},
   "outputs": [],
   "source": [
    "\n",
    "    \n",
    "    "
   ]
  }
 ],
 "metadata": {
  "kernelspec": {
   "display_name": "Python 3",
   "language": "python",
   "name": "python3"
  },
  "language_info": {
   "codemirror_mode": {
    "name": "ipython",
    "version": 3
   },
   "file_extension": ".py",
   "mimetype": "text/x-python",
   "name": "python",
   "nbconvert_exporter": "python",
   "pygments_lexer": "ipython3",
   "version": "3.8.5"
  }
 },
 "nbformat": 4,
 "nbformat_minor": 4
}
