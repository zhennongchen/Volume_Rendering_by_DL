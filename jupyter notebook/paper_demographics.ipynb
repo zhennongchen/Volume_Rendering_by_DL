{
 "cells": [
  {
   "cell_type": "code",
   "execution_count": 1,
   "metadata": {},
   "outputs": [],
   "source": [
    "import os\n",
    "import numpy as np\n",
    "import function_list_VR as ff\n",
    "import pandas as pd"
   ]
  },
  {
   "cell_type": "code",
   "execution_count": 12,
   "metadata": {},
   "outputs": [
    {
     "name": "stdout",
     "output_type": "stream",
     "text": [
      "313 306 179 82\n"
     ]
    }
   ],
   "source": [
    "basic_info = pd.read_csv('/Users/zhennongchen/Documents/Zhennong_VR/Patient_List/Patient_list_exclude.csv')\n",
    "basic_info = basic_info.fillna('')\n",
    "\n",
    "total_data = pd.read_csv('/Users/zhennongchen/Documents/Zhennong_VR/Patient_List/WMA_Label_List.csv')\n",
    "total_data = total_data.fillna('').loc[(total_data['angle_60'] != 'x') & (total_data['angle_0'] != 'x')]\n",
    "\n",
    "train_data = pd.read_csv('/Users/zhennongchen/Documents/Zhennong_VR/Patient_List/WMA_Label_List_train.csv')\n",
    "train_data = train_data.fillna('').loc[(train_data['angle_60'] != 'x') & (train_data['angle_0'] != 'x')]\n",
    "\n",
    "test_data = pd.read_csv('/Users/zhennongchen/Documents/Zhennong_VR/Patient_List/WMA_Label_List_test.csv')\n",
    "test_data = test_data.fillna('').loc[(test_data['angle_60'] != 'x') & (test_data['angle_0'] != 'x')]\n",
    "\n",
    "print(basic_info.shape[0], total_data.shape[0], train_data.shape[0], test_data.shape[0])"
   ]
  },
  {
   "cell_type": "markdown",
   "metadata": {},
   "source": [
    "# count numbers"
   ]
  },
  {
   "cell_type": "code",
   "execution_count": 19,
   "metadata": {},
   "outputs": [],
   "source": [
    "data = test_data"
   ]
  },
  {
   "cell_type": "code",
   "execution_count": 20,
   "metadata": {},
   "outputs": [
    {
     "name": "stdout",
     "output_type": "stream",
     "text": [
      "total:  82  normal:  42  abnormal:  40\n"
     ]
    }
   ],
   "source": [
    "# two funcional classes\n",
    "n_total = data.shape[0]\n",
    "n_normal = data.loc[data['Patient_Class'] == 'Normal'].shape[0]\n",
    "n_abnormal = data.loc[data['Patient_Class'] == 'Abnormal'].shape[0]\n",
    "print('total: ', n_total,' normal: ', n_normal,' abnormal: ',n_abnormal)"
   ]
  },
  {
   "cell_type": "code",
   "execution_count": 21,
   "metadata": {},
   "outputs": [
    {
     "name": "stdout",
     "output_type": "stream",
     "text": [
      "for year 20 18  normal:  0  abnormal:  0  total:  0\n",
      "for year 20 19  normal:  0  abnormal:  0  total:  0\n",
      "for year 20 20  normal:  42  abnormal:  40  total:  82\n"
     ]
    }
   ],
   "source": [
    "# per year\n",
    "for i in [18,19,20]:\n",
    "    words = 'CVC' + str(i)\n",
    "    n_normal_year = 0\n",
    "    n_abnormal_year = 0\n",
    "    for c in range(data.shape[0]):\n",
    "        case = data.iloc[c]\n",
    "        if 'AN11_18' in case['Patient_ID'] and i == 18:\n",
    "            n_normal_year += 1\n",
    "        if words in case['Patient_ID']:\n",
    "            if case['Patient_Class'] == 'Normal':\n",
    "                n_normal_year += 1\n",
    "            else:\n",
    "                n_abnormal_year += 1\n",
    "        \n",
    "    print('for year 20',str(i),' normal: ',n_normal_year,' abnormal: ',n_abnormal_year,' total: ',n_normal_year + n_abnormal_year)"
   ]
  },
  {
   "cell_type": "markdown",
   "metadata": {},
   "source": [
    "# clinical indications"
   ]
  },
  {
   "cell_type": "code",
   "execution_count": 15,
   "metadata": {},
   "outputs": [
    {
     "name": "stdout",
     "output_type": "stream",
     "text": [
      "29 123 116 45\n"
     ]
    }
   ],
   "source": [
    "n_tavr = data.loc[data['Purpose'] == 'TAVR'].shape[0]\n",
    "n_cad = data.loc[data['Purpose'] == 'CAD'].shape[0]\n",
    "n_pvi = data.loc[data['Purpose'] == 'PVI'].shape[0]\n",
    "n_other = data.loc[data['Purpose'] == ''].shape[0]\n",
    "print(n_tavr, n_cad, n_pvi, n_other)"
   ]
  },
  {
   "cell_type": "code",
   "execution_count": null,
   "metadata": {},
   "outputs": [],
   "source": []
  }
 ],
 "metadata": {
  "kernelspec": {
   "display_name": "Python 3",
   "language": "python",
   "name": "python3"
  },
  "language_info": {
   "codemirror_mode": {
    "name": "ipython",
    "version": 3
   },
   "file_extension": ".py",
   "mimetype": "text/x-python",
   "name": "python",
   "nbconvert_exporter": "python",
   "pygments_lexer": "ipython3",
   "version": "3.8.5"
  }
 },
 "nbformat": 4,
 "nbformat_minor": 4
}
