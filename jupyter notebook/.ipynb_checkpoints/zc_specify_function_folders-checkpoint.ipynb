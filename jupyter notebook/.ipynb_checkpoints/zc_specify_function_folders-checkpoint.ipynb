{
 "cells": [
  {
   "cell_type": "markdown",
   "metadata": {},
   "source": [
    "this script can find, from the full list of directories, the folders for cardiac function."
   ]
  },
  {
   "cell_type": "code",
   "execution_count": 1,
   "metadata": {},
   "outputs": [],
   "source": [
    "import pandas as pd\n",
    "import os\n",
    "import numpy as np\n",
    "import math"
   ]
  },
  {
   "cell_type": "code",
   "execution_count": 6,
   "metadata": {},
   "outputs": [
    {
     "name": "stdout",
     "output_type": "stream",
     "text": [
      "(137, 14)\n"
     ]
    }
   ],
   "source": [
    "main_folder = '/Users/zhennongchen/Documents/Zhennong_CT_Data/Patient_Overview'\n",
    "year = '2020'\n",
    "#data = pd.read_csv(os.path.join(main_folder,year+'_Patient_Radiology_Records_Full.csv'))\n",
    "data = pd.read_csv(os.path.join(main_folder,'missing.csv'))\n",
    "print(data.shape)"
   ]
  },
  {
   "cell_type": "code",
   "execution_count": 7,
   "metadata": {},
   "outputs": [],
   "source": [
    "keyword_list = ['_to_','ccta','cta','half','function','%']"
   ]
  },
  {
   "cell_type": "code",
   "execution_count": 8,
   "metadata": {},
   "outputs": [],
   "source": [
    "def times_keywords_in_the_list(lst,words):\n",
    "    count_list = []\n",
    "    for w in words:\n",
    "        count = 0\n",
    "        for l in lst:\n",
    "            if w in l.lower():\n",
    "                count += 1\n",
    "        count_list.append(count) \n",
    "    max_count = np.max(np.asarray(count_list))\n",
    "    max_index = count_list.index(max_count)\n",
    "    return count_list,max_count,max_index"
   ]
  },
  {
   "cell_type": "code",
   "execution_count": 9,
   "metadata": {},
   "outputs": [
    {
     "name": "stdout",
     "output_type": "stream",
     "text": [
      "137\n"
     ]
    }
   ],
   "source": [
    "function_dirs = []\n",
    "num_of_tf = []\n",
    "for i in range(0,data.shape[0]):\n",
    "    case = data.iloc[i]\n",
    "    if case['Function?'] == 'No':\n",
    "        function_dirs.append('')\n",
    "        num_of_tf.append(0)\n",
    "    else:\n",
    "        folder_list = case['Directories_Full']\n",
    "        folder_list = folder_list.replace('[','').replace(']','')\n",
    "        f = folder_list.split(', ')\n",
    "        count_list,max_count,max_index = times_keywords_in_the_list(f,keyword_list)\n",
    "        \n",
    "        if max_count != 0:\n",
    "            D = []\n",
    "            for ff in f:\n",
    "                if keyword_list[max_index] in ff.lower():\n",
    "                    D.append(ff)\n",
    "        else:\n",
    "            raise ValueError('no function folder!!')\n",
    "        \n",
    "        function_dirs.append(D)\n",
    "        num_of_tf.append(max_count)\n",
    "        \n",
    "print(len(function_dirs))"
   ]
  },
  {
   "cell_type": "code",
   "execution_count": 10,
   "metadata": {},
   "outputs": [],
   "source": [
    "# insert into original dataframe\n",
    "data.insert(12, \"Directories_Function\", function_dirs, True)\n",
    "data.insert(13,'Timeframes',num_of_tf,True)"
   ]
  },
  {
   "cell_type": "code",
   "execution_count": 11,
   "metadata": {},
   "outputs": [],
   "source": [
    "# delete original directories_w/function\n",
    "data = data.drop(['Directories_w/Function'], axis=1)"
   ]
  },
  {
   "cell_type": "code",
   "execution_count": 12,
   "metadata": {},
   "outputs": [],
   "source": [
    "data.to_csv(os.path.join(main_folder,year+'_Patient_Radiology_Records_Full.csv'),index=False)"
   ]
  },
  {
   "cell_type": "markdown",
   "metadata": {},
   "source": [
    "## save studies with functions"
   ]
  },
  {
   "cell_type": "code",
   "execution_count": null,
   "metadata": {},
   "outputs": [],
   "source": []
  }
 ],
 "metadata": {
  "kernelspec": {
   "display_name": "Python 3",
   "language": "python",
   "name": "python3"
  },
  "language_info": {
   "codemirror_mode": {
    "name": "ipython",
    "version": 3
   },
   "file_extension": ".py",
   "mimetype": "text/x-python",
   "name": "python",
   "nbconvert_exporter": "python",
   "pygments_lexer": "ipython3",
   "version": "3.6.10"
  }
 },
 "nbformat": 4,
 "nbformat_minor": 4
}
