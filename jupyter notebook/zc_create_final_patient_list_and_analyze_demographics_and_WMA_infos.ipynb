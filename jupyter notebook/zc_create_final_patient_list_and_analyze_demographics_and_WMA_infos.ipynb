{
 "cells": [
  {
   "cell_type": "markdown",
   "metadata": {},
   "source": [
    "this script creates a final patient list used for Volume rendering project"
   ]
  },
  {
   "cell_type": "code",
   "execution_count": 1,
   "metadata": {},
   "outputs": [],
   "source": [
    "import os\n",
    "import numpy as np\n",
    "import function_list_VR as ff\n",
    "import pandas as pd"
   ]
  },
  {
   "cell_type": "code",
   "execution_count": 2,
   "metadata": {},
   "outputs": [],
   "source": [
    "main_data_path = '/Volumes/McVeighLab/wip/zhennong/'\n",
    "main_info_path = '/Users/zhennongchen/Documents/Zhennong_CT_Data/Patient_Overview'\n",
    "patient_list = ff.find_all_target_files(['Abnormal/*','Normal/*'],os.path.join(main_data_path,'nii-images'))\n",
    "normal_info = pd.read_csv(os.path.join(main_info_path,'Case_search_list/normal_candidates.csv'))\n",
    "abnormal_info = pd.read_csv(os.path.join(main_info_path,'Case_search_list/abnormal_candidates.csv'))\n",
    "entire_info = [normal_info,abnormal_info]\n",
    "timeframe_info = pd.read_csv(os.path.join(main_info_path,'Case_search_list/time_frame_assignment_for_pretrained_AI_prediction.csv'))"
   ]
  },
  {
   "cell_type": "code",
   "execution_count": 34,
   "metadata": {},
   "outputs": [
    {
     "name": "stdout",
     "output_type": "stream",
     "text": [
      "(375,)\n"
     ]
    }
   ],
   "source": [
    "print(patient_list.shape)"
   ]
  },
  {
   "cell_type": "code",
   "execution_count": 39,
   "metadata": {},
   "outputs": [],
   "source": [
    "normal_info = pd.read_csv(os.path.join(main_info_path,'Case_search_list/normal_candidates.csv'))\n",
    "abnormal_info = pd.read_csv(os.path.join(main_info_path,'Case_search_list/abnormal_candidates.csv'))\n",
    "entire_info = [normal_info,abnormal_info]"
   ]
  },
  {
   "cell_type": "code",
   "execution_count": 48,
   "metadata": {},
   "outputs": [],
   "source": [
    "for count in range(0,len(patient_list)):\n",
    "    p = patient_list[count]\n",
    "    patient_id = os.path.basename(p)\n",
    "    patient_class = os.path.basename(os.path.dirname(p))\n",
    "    \n",
    "    if patient_class == 'Abnormal':\n",
    "        info = entire_info[1]\n",
    "    else:\n",
    "        info = entire_info[0]\n",
    "    \n",
    "    assert (patient_id in info.Patient_ID.values) == True\n",
    "    assert (patient_id in timeframe_info.Patient_ID.values) == True\n",
    "    \n",
    "    t = timeframe_info.loc[timeframe_info['Patient_ID'] == patient_id]\n",
    "    t = t.iloc[:,1:t.shape[1]]\n",
    "   # print(t)\n",
    "    \n",
    "    i = info.loc[info['Patient_ID'] == patient_id]\n",
    "    i = i.iloc[:,1:i.shape[1]]\n",
    "    #print(i)\n",
    "   \n",
    "    \n",
    "    if count == 0:\n",
    "        final_list = pd.merge(t, i, on='Patient_ID')\n",
    "    else:\n",
    "        final_list = pd.concat([final_list,pd.merge(t, i, on='Patient_ID')],axis = 0)\n",
    "    #print(final_list)\n",
    "    "
   ]
  },
  {
   "cell_type": "code",
   "execution_count": 49,
   "metadata": {},
   "outputs": [
    {
     "name": "stdout",
     "output_type": "stream",
     "text": [
      "Patient_Class                                                    Abnormal\n",
      "Patient_ID                                                  CVC1801161735\n",
      "ED/ES                                                                  ED\n",
      "Timeframe_picked                                                        0\n",
      "Total_timeframes                                                       10\n",
      "Keywords                ['device', 'akinesi', 'function', 'thinning', ...\n",
      "Highlight text          CTA CARDIAC MORPHOLOGY 57 - year - old female ...\n",
      "Report text             Please  note  the  following  correction  to  ...\n",
      "Acession                                                         50272821\n",
      "Manufacturer                                           GE MEDICAL SYSTEMS\n",
      "Model                                                       Revolution CT\n",
      "Sex                                                                     F\n",
      "Age                                                                  057Y\n",
      "Protocol                                  5.25 CTA Cardiac Congenital ***\n",
      "Directories_Full        ['Function_301_0%', 'Function_301_10%', 'Funct...\n",
      "Directories_Function    [\"'Function_301_0%'\", \"'Function_301_10%'\", \"'...\n",
      "Timeframes                                                             10\n",
      "Name: 0, dtype: object\n"
     ]
    }
   ],
   "source": [
    "print(final_list.iloc[0])"
   ]
  },
  {
   "cell_type": "code",
   "execution_count": 51,
   "metadata": {},
   "outputs": [
    {
     "name": "stdout",
     "output_type": "stream",
     "text": [
      "['Patient_Class' 'Patient_ID' 'ZC_notes' 'ED/ES' 'Timeframe_picked'\n",
      " 'Total_timeframes' 'Keywords' 'Highlight text' 'Report text' 'Acession'\n",
      " 'Manufacturer' 'Model' 'Sex' 'Age' 'Protocol' 'Directories_Full'\n",
      " 'Directories_Function' 'Timeframes'] (375, 18)\n"
     ]
    }
   ],
   "source": [
    "# add one empty column\n",
    "final_list.insert(2,'ZC_notes','')\n",
    "print(final_list.columns.values,final_list.shape)"
   ]
  },
  {
   "cell_type": "code",
   "execution_count": 52,
   "metadata": {},
   "outputs": [],
   "source": [
    "final_list.reset_index(drop=True,inplace=True)\n",
    "final_list.to_excel(os.path.join(main_info_path,'Case_search_list/Final_patient_list.xlsx'),index=True)"
   ]
  },
  {
   "cell_type": "code",
   "execution_count": null,
   "metadata": {},
   "outputs": [],
   "source": []
  },
  {
   "cell_type": "markdown",
   "metadata": {},
   "source": [
    "## demographics"
   ]
  },
  {
   "cell_type": "code",
   "execution_count": 3,
   "metadata": {},
   "outputs": [],
   "source": [
    "main_info_path = '/Users/zhennongchen/Documents/Zhennong_CT_Data/Patient_Overview'\n",
    "final_list = pd.read_csv(os.path.join(main_info_path,'Case_search_list/Final_patient_list.csv'))"
   ]
  },
  {
   "cell_type": "code",
   "execution_count": 4,
   "metadata": {},
   "outputs": [
    {
     "name": "stdout",
     "output_type": "stream",
     "text": [
      "239\n",
      "0.6373333333333333\n"
     ]
    }
   ],
   "source": [
    "#gender\n",
    "male = 0\n",
    "for i in range(0,final_list.shape[0]):\n",
    "    case = final_list.iloc[i]\n",
    "    if case['Sex'] == 'M':\n",
    "        male += 1\n",
    "        \n",
    "print(male)\n",
    "print(male/final_list.shape[0])\n",
    "    "
   ]
  },
  {
   "cell_type": "code",
   "execution_count": 5,
   "metadata": {},
   "outputs": [
    {
     "name": "stdout",
     "output_type": "stream",
     "text": [
      "62.11764705882353 15.50925405390561\n"
     ]
    }
   ],
   "source": [
    "# age\n",
    "from statistics import mean\n",
    "age = []\n",
    "for i in range(0,final_list.shape[0]):\n",
    "    case = final_list.iloc[i]\n",
    "    if len(case['Age']) == 4:\n",
    "        age.append(int(case['Age'][1])*10 + int(case['Age'][2]))\n",
    "    \n",
    "age = np.asarray(age)\n",
    "print(age.mean(),age.std())\n",
    "           "
   ]
  },
  {
   "cell_type": "markdown",
   "metadata": {},
   "source": [
    "## WMA info"
   ]
  },
  {
   "cell_type": "code",
   "execution_count": 16,
   "metadata": {},
   "outputs": [
    {
     "name": "stdout",
     "output_type": "stream",
     "text": [
      "(387, 26)\n"
     ]
    }
   ],
   "source": [
    "main_info_path = '/Users/zhennongchen/Documents/Zhennong_CT_Data/Patient_Overview'\n",
    "final_list = pd.read_csv(os.path.join(main_info_path,'Case_search_list/Final_patient_list.csv'))\n",
    "final_list_exclude = pd.read_csv(os.path.join(main_info_path,'Case_search_list/Final_patient_list_exclude.csv'))\n",
    "final_list = final_list.fillna('')\n",
    "final_list_exclude = final_list_exclude.fillna('')\n",
    "print(final_list.shape)"
   ]
  },
  {
   "cell_type": "code",
   "execution_count": 18,
   "metadata": {},
   "outputs": [
    {
     "name": "stdout",
     "output_type": "stream",
     "text": [
      "102 61 131\n"
     ]
    }
   ],
   "source": [
    "# WMA info count\n",
    "countR = 0\n",
    "countG = 0\n",
    "countEF = 0\n",
    "\n",
    "for i in range(0,final_list.shape[0]):\n",
    "    case = final_list.iloc[i]\n",
    "        \n",
    "    info = case['Regional/Global/EF2'] \n",
    "    \n",
    "    if ('R' in info):\n",
    "        countR += 1\n",
    "    if ('G' in info):\n",
    "        countG += 1\n",
    "        \n",
    "    if ('E' in info):\n",
    "        countEF += 1\n",
    "    \n",
    "print(countR,countG,countEF)\n",
    "        "
   ]
  },
  {
   "cell_type": "code",
   "execution_count": null,
   "metadata": {},
   "outputs": [],
   "source": []
  }
 ],
 "metadata": {
  "kernelspec": {
   "display_name": "Python 3",
   "language": "python",
   "name": "python3"
  },
  "language_info": {
   "codemirror_mode": {
    "name": "ipython",
    "version": 3
   },
   "file_extension": ".py",
   "mimetype": "text/x-python",
   "name": "python",
   "nbconvert_exporter": "python",
   "pygments_lexer": "ipython3",
   "version": "3.6.10"
  }
 },
 "nbformat": 4,
 "nbformat_minor": 4
}
