{
 "cells": [
  {
   "cell_type": "code",
   "execution_count": 1,
   "metadata": {},
   "outputs": [],
   "source": [
    "import numpy as np\n",
    "import pandas as pd\n",
    "import os\n",
    "import function_list_VR as ff"
   ]
  },
  {
   "cell_type": "markdown",
   "metadata": {},
   "source": [
    "## 1. merge physician's report with overview"
   ]
  },
  {
   "cell_type": "code",
   "execution_count": 17,
   "metadata": {},
   "outputs": [],
   "source": [
    "main_dir = '/Users/zhennongchen/Documents/Zhennong_CT_Data/Patient_Overview'"
   ]
  },
  {
   "cell_type": "code",
   "execution_count": 18,
   "metadata": {},
   "outputs": [
    {
     "name": "stdout",
     "output_type": "stream",
     "text": [
      "137\n"
     ]
    }
   ],
   "source": [
    "#year = '2020'\n",
    "#overview_file = os.path.join(main_dir,year+'_Patient_MetaData.csv')\n",
    "overview_file = os.path.join(main_dir,'2019_2020_missing.csv')\n",
    "overview_data = pd.read_csv(overview_file)\n",
    "overview_data.head()\n",
    "print(len(overview_data))"
   ]
  },
  {
   "cell_type": "code",
   "execution_count": 19,
   "metadata": {},
   "outputs": [
    {
     "name": "stdout",
     "output_type": "stream",
     "text": [
      "7\n"
     ]
    }
   ],
   "source": [
    "# make accession as integer\n",
    "Accession = overview_data['Accession'].fillna(0)\n",
    "overview_data['Accession'] =  Accession.astype(int)\n",
    "count = 0\n",
    "for a in overview_data['Accession']:\n",
    "    if a == 0:\n",
    "        count += 1\n",
    "print(count)"
   ]
  },
  {
   "cell_type": "code",
   "execution_count": 20,
   "metadata": {},
   "outputs": [],
   "source": [
    "# merge physician record \n",
    "Record = []\n",
    "#record_files = ff.find_all_target_files([year+'_Radiology*'],os.path.join(main_dir,'Export_from_PAC_system'))\n",
    "record_files = ff.find_all_target_files(['Export_*'],os.path.join(main_dir,'Export_from_PACS'))\n",
    "for f in record_files:\n",
    "    record = pd.read_csv(f)\n",
    "    record = record.rename(columns={\"Accession id\": \"Accession\"})\n",
    "    record['Accession'] = (record['Accession']).astype(int)\n",
    "    Record.append(record)"
   ]
  },
  {
   "cell_type": "code",
   "execution_count": 21,
   "metadata": {},
   "outputs": [],
   "source": [
    "Record = pd.concat(Record)"
   ]
  },
  {
   "cell_type": "code",
   "execution_count": 22,
   "metadata": {},
   "outputs": [
    {
     "name": "stdout",
     "output_type": "stream",
     "text": [
      "The number of patients with records:  124\n"
     ]
    }
   ],
   "source": [
    "print('The number of patients with records: ',len(Record))"
   ]
  },
  {
   "cell_type": "code",
   "execution_count": 23,
   "metadata": {},
   "outputs": [
    {
     "name": "stdout",
     "output_type": "stream",
     "text": [
      "137\n",
      "Index(['Patient_ID', 'Year', 'Function?', 'Dicom?', 'Accession',\n",
      "       'Manufacturer', 'Model', 'StudyDescription', 'Sex', 'Age', 'Protocol',\n",
      "       'Directories_Full', 'Directories_w/Function', 'Report text'],\n",
      "      dtype='object')\n"
     ]
    }
   ],
   "source": [
    "overview_data_merged = overview_data.merge(Record,how='left', on=\"Accession\",left_index=True)\n",
    "# drop duplicates\n",
    "overview_data_merged = overview_data_merged.drop_duplicates()\n",
    "print(len(overview_data_merged))\n",
    "print(overview_data_merged.columns)"
   ]
  },
  {
   "cell_type": "code",
   "execution_count": 24,
   "metadata": {},
   "outputs": [],
   "source": [
    "overview_data_merged  = overview_data_merged.drop(['Directories_Full','Directories_w/Function'],axis=1)\n",
    "overview_data_merged.to_csv(os.path.join(main_dir,year+'_Patient_Radiology_Records_Full.csv'),index=False)"
   ]
  },
  {
   "cell_type": "markdown",
   "metadata": {},
   "source": [
    "## 2. fill in metadata for patients without functional image"
   ]
  },
  {
   "cell_type": "code",
   "execution_count": 188,
   "metadata": {},
   "outputs": [
    {
     "name": "stdout",
     "output_type": "stream",
     "text": [
      "there are 635 patients in total\n",
      "there are 279 patients without function image\n"
     ]
    }
   ],
   "source": [
    "year = '2020'\n",
    "overview_file = os.path.join(main_dir,year+'_patient_overview.csv')\n",
    "overview_data = pd.read_csv(overview_file)\n",
    "overview_data.head()\n",
    "print('there are %d patients in total' % (len(overview_data)))\n",
    "\n",
    "function_exist = overview_data['Function?']\n",
    "count = 0\n",
    "index_collect = []\n",
    "for i in range(0,function_exist.shape[0]):\n",
    "    if function_exist[i] == 'No':\n",
    "        count += 1\n",
    "        index_collect.append(i)\n",
    "        \n",
    "print('there are %d patients without function image' % (count))"
   ]
  },
  {
   "cell_type": "code",
   "execution_count": 189,
   "metadata": {},
   "outputs": [
    {
     "name": "stdout",
     "output_type": "stream",
     "text": [
      "279\n"
     ]
    }
   ],
   "source": [
    "no_function_file = os.path.join(main_dir,'Cases_no_function',year+'_patient_overview_nofunction.csv')\n",
    "no_function_data = pd.read_csv(no_function_file)\n",
    "print(len(no_function_data))\n",
    "A = no_function_data['Accession'].fillna(0)\n",
    "no_function_data['Accession'] =  A.astype(int)"
   ]
  },
  {
   "cell_type": "code",
   "execution_count": 190,
   "metadata": {},
   "outputs": [],
   "source": [
    "for n in no_function_data['Accession']:\n",
    "    if np.isnan(n) == True:\n",
    "        print('yes')"
   ]
  },
  {
   "cell_type": "code",
   "execution_count": 191,
   "metadata": {},
   "outputs": [
    {
     "name": "stderr",
     "output_type": "stream",
     "text": [
      "/anaconda3/lib/python3.6/site-packages/ipykernel_launcher.py:5: SettingWithCopyWarning: \n",
      "A value is trying to be set on a copy of a slice from a DataFrame\n",
      "\n",
      "See the caveats in the documentation: http://pandas.pydata.org/pandas-docs/stable/user_guide/indexing.html#returning-a-view-versus-a-copy\n",
      "  \"\"\"\n",
      "/anaconda3/lib/python3.6/site-packages/ipykernel_launcher.py:6: SettingWithCopyWarning: \n",
      "A value is trying to be set on a copy of a slice from a DataFrame\n",
      "\n",
      "See the caveats in the documentation: http://pandas.pydata.org/pandas-docs/stable/user_guide/indexing.html#returning-a-view-versus-a-copy\n",
      "  \n",
      "/anaconda3/lib/python3.6/site-packages/ipykernel_launcher.py:7: SettingWithCopyWarning: \n",
      "A value is trying to be set on a copy of a slice from a DataFrame\n",
      "\n",
      "See the caveats in the documentation: http://pandas.pydata.org/pandas-docs/stable/user_guide/indexing.html#returning-a-view-versus-a-copy\n",
      "  import sys\n",
      "/anaconda3/lib/python3.6/site-packages/ipykernel_launcher.py:8: SettingWithCopyWarning: \n",
      "A value is trying to be set on a copy of a slice from a DataFrame\n",
      "\n",
      "See the caveats in the documentation: http://pandas.pydata.org/pandas-docs/stable/user_guide/indexing.html#returning-a-view-versus-a-copy\n",
      "  \n",
      "/anaconda3/lib/python3.6/site-packages/ipykernel_launcher.py:9: SettingWithCopyWarning: \n",
      "A value is trying to be set on a copy of a slice from a DataFrame\n",
      "\n",
      "See the caveats in the documentation: http://pandas.pydata.org/pandas-docs/stable/user_guide/indexing.html#returning-a-view-versus-a-copy\n",
      "  if __name__ == '__main__':\n",
      "/anaconda3/lib/python3.6/site-packages/ipykernel_launcher.py:10: SettingWithCopyWarning: \n",
      "A value is trying to be set on a copy of a slice from a DataFrame\n",
      "\n",
      "See the caveats in the documentation: http://pandas.pydata.org/pandas-docs/stable/user_guide/indexing.html#returning-a-view-versus-a-copy\n",
      "  # Remove the CWD from sys.path while we load stuff.\n",
      "/anaconda3/lib/python3.6/site-packages/ipykernel_launcher.py:11: SettingWithCopyWarning: \n",
      "A value is trying to be set on a copy of a slice from a DataFrame\n",
      "\n",
      "See the caveats in the documentation: http://pandas.pydata.org/pandas-docs/stable/user_guide/indexing.html#returning-a-view-versus-a-copy\n",
      "  # This is added back by InteractiveShellApp.init_path()\n",
      "/anaconda3/lib/python3.6/site-packages/ipykernel_launcher.py:12: SettingWithCopyWarning: \n",
      "A value is trying to be set on a copy of a slice from a DataFrame\n",
      "\n",
      "See the caveats in the documentation: http://pandas.pydata.org/pandas-docs/stable/user_guide/indexing.html#returning-a-view-versus-a-copy\n",
      "  if sys.path[0] == '':\n"
     ]
    },
    {
     "name": "stdout",
     "output_type": "stream",
     "text": [
      "279\n"
     ]
    }
   ],
   "source": [
    "count = 0\n",
    "overview_data_copy = overview_data.copy()\n",
    "for i in index_collect:\n",
    "    assert no_function_data['Patient_ID'][count] == overview_data_copy['Patient_ID'][i]\n",
    "    overview_data_copy['Dicom?'][i] = no_function_data['Dicom?'][count]\n",
    "    overview_data_copy['Accession'][i] = no_function_data['Accession'][count]\n",
    "    overview_data_copy['Manufacturer'][i] = no_function_data['Manufacturer'][count]\n",
    "    overview_data_copy['Model'][i] = no_function_data['Model'][count]\n",
    "    overview_data_copy['StudyDescription'][i] = no_function_data['StudyDescription'][count]\n",
    "    overview_data_copy['Sex'][i] = no_function_data['Sex'][count]\n",
    "    overview_data_copy['Age'][i] = no_function_data['Age'][count]\n",
    "    overview_data_copy['Protocol'][i] = no_function_data['Protocol'][count]\n",
    "    \n",
    "    count += 1\n",
    "overview_data_copy['Accession'] = overview_data_copy['Accession'].fillna(0)\n",
    "overview_data_copy['Accession'] = overview_data_copy['Accession'].astype(int)\n",
    "print(count)"
   ]
  },
  {
   "cell_type": "code",
   "execution_count": 192,
   "metadata": {},
   "outputs": [
    {
     "name": "stdout",
     "output_type": "stream",
     "text": [
      "635\n"
     ]
    }
   ],
   "source": [
    "print(len(overview_data_copy))\n",
    "overview_data_copy.to_csv(os.path.join(main_dir,year+'_Patient_MetaData.csv'),index=False)"
   ]
  },
  {
   "cell_type": "code",
   "execution_count": null,
   "metadata": {},
   "outputs": [],
   "source": []
  }
 ],
 "metadata": {
  "kernelspec": {
   "display_name": "Python 3",
   "language": "python",
   "name": "python3"
  },
  "language_info": {
   "codemirror_mode": {
    "name": "ipython",
    "version": 3
   },
   "file_extension": ".py",
   "mimetype": "text/x-python",
   "name": "python",
   "nbconvert_exporter": "python",
   "pygments_lexer": "ipython3",
   "version": "3.6.10"
  }
 },
 "nbformat": 4,
 "nbformat_minor": 4
}
