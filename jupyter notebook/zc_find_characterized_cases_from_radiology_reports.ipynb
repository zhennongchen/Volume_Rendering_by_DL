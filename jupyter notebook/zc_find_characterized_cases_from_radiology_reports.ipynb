{
 "cells": [
  {
   "cell_type": "markdown",
   "metadata": {},
   "source": [
    "this script take key words as the input and return the cases that contain this input"
   ]
  },
  {
   "cell_type": "code",
   "execution_count": 1,
   "metadata": {},
   "outputs": [],
   "source": [
    "import pandas as pd\n",
    "import os\n",
    "import numpy as np\n",
    "import math"
   ]
  },
  {
   "cell_type": "code",
   "execution_count": 2,
   "metadata": {},
   "outputs": [],
   "source": [
    "def process_string(string):\n",
    "    # replace symbols\n",
    "    output = string.replace(',',' , ').replace(':',' : ').replace('-',\" - \")\\\n",
    "    .replace(';',' ; ').replace('?',' ? ').replace('. ',' . ').replace('  ',' ')\n",
    "    # replace the white space in the start\n",
    "    position = 0\n",
    "    output = list(output)\n",
    "    while True:\n",
    "        if output[position] == ' ':\n",
    "            output[position] = ''\n",
    "            position += 1\n",
    "        else:\n",
    "            break\n",
    "    output = \"\".join(output)\n",
    "    return output\n",
    "\n",
    "def indexes_for_duplicates_in_list(lst, item,lower = True):\n",
    "    # in case the length of item > 1, combine every N element in the list together, N = len of item \n",
    "    len_item = len(item.split())\n",
    "    new_lst = []\n",
    "    for i in range(0,len(lst)-(len_item-1)):\n",
    "        element = []\n",
    "        for ii in range(0,len_item):\n",
    "            element.append(lst[i + ii])\n",
    "        new_lst.append(element)\n",
    "\n",
    "    indexes = []\n",
    "    if lower == True:\n",
    "        indexes = [i for i,x in enumerate(new_lst) if \" \".join(x).lower() == item]\n",
    "    else:\n",
    "        indexes = [i for i,x in enumerate(new_lst) if \" \".join(x) == item]\n",
    "    \n",
    "    result = []\n",
    "    for i in indexes:\n",
    "        for ii in range(0,len_item):\n",
    "            result.append(i+ii)\n",
    "    return result"
   ]
  },
  {
   "cell_type": "code",
   "execution_count": 3,
   "metadata": {},
   "outputs": [],
   "source": [
    "def find_highlighted_sentence_w_keyword(case,keyword):\n",
    "    # this function can also determine whether the case has the keyword\n",
    "    has_keyword = 0\n",
    "    \n",
    "    report = case['Report text']\n",
    "    # split report by sentence\n",
    "    report_split = report.replace('\\n','. ').split('. ')\n",
    "    report_split = [i for i in report_split if i != ' ' and i != '']\n",
    "    \n",
    "    txt = \"\"\n",
    "    highlight_sentence = []\n",
    "    keyword_list = []\n",
    "    for string in report_split:\n",
    "        # find whether the key is included in each sentence\n",
    "        keys = [key for key in keyword if key in process_string(string.lower())]\n",
    "        if len(keys) != 0:\n",
    "            has_keyword = 1\n",
    "            # save keywords\n",
    "            keyword_list.extend(keys)\n",
    "            # find the indexes of the keyword in that sentence\n",
    "            string = process_string(string)\n",
    "            string_split = string.split()\n",
    "            indexes_list = []\n",
    "            for key in keys:\n",
    "                index = indexes_for_duplicates_in_list(string_split,key)\n",
    "                indexes_list.extend(index)\n",
    "            indexes_list = sorted(indexes_list)\n",
    "            \n",
    "            # add this sentence and indexes into collection\n",
    "            highlight_sentence.append((string,indexes_list))\n",
    "            \n",
    "            # write into text\n",
    "            t = \"\"\n",
    "            for i in range(0,len(string_split)):\n",
    "                if i in indexes_list:\n",
    "                    t = t + \"!!\" + string_split[i] + \"!! \"\n",
    "                else:\n",
    "                    t = t + string_split[i]+ ' '\n",
    "            txt = txt + t +'.\\n '\n",
    "        \n",
    "    keyword_list = list(dict.fromkeys(keyword_list))\n",
    "    return has_keyword,keyword_list, highlight_sentence,txt\n",
    "    "
   ]
  },
  {
   "cell_type": "code",
   "execution_count": 4,
   "metadata": {},
   "outputs": [],
   "source": [
    "def make_highlighted_rtf_report(case,highlight_sentence,save_path,attach_full_report = True):\n",
    "    # define rtf file name\n",
    "    file_name = os.path.join(save_path,case['Patient_ID']+'.rtf')\n",
    "    txt = \"{\\\\rtf1 Patient_ID: \"+case['Patient_ID']+\"\\line\\line Highlight sentences: \\line\\line \" \n",
    "    \n",
    "    for h in highlight_sentence:\n",
    "        string = h[0]\n",
    "        indexes_list = h[1]\n",
    "        string_split = string.split()\n",
    "       \n",
    "        # write into text\n",
    "        t = \"\"\n",
    "        for i in range(0,len(string_split)):\n",
    "            if i in indexes_list:\n",
    "                t = t + \"\\\\b \" + string_split[i] + \" \\\\b0 \"\n",
    "            else:\n",
    "                t = t + string_split[i]+ ' '\n",
    "        txt = txt + t +'\\line '\n",
    "            \n",
    "    # attach the full reports\n",
    "    if attach_full_report == True:\n",
    "        report = case['Report text']\n",
    "        txt = txt + \"\\line Full reports:\\line  \" + report.replace('\\n','\\line ') + \"}\"\n",
    "    \n",
    "    output_file = open(file_name,'w')\n",
    "    output_file.write(txt)\n",
    "    output_file.close()\n",
    "        "
   ]
  },
  {
   "cell_type": "code",
   "execution_count": 5,
   "metadata": {},
   "outputs": [],
   "source": [
    "# define radiology report file name\n",
    "main_folder = '/Users/zhennongchen/Documents/Zhennong_CT_Data/Patient_Overview'\n",
    "year = '2019'\n",
    "os.makedirs(os.path.join(main_folder,'Case_search_list',year),exist_ok = True)\n",
    "\n",
    "save_path = os.path.join(main_folder,'Case_search_list',year,'rtf_files')\n",
    "data = pd.read_csv(os.path.join(main_folder,year+'_Patient_Radiology_Records_Full.csv'))"
   ]
  },
  {
   "cell_type": "code",
   "execution_count": 6,
   "metadata": {},
   "outputs": [
    {
     "name": "stdout",
     "output_type": "stream",
     "text": [
      "(795, 15)\n"
     ]
    }
   ],
   "source": [
    "# only look for cases with funtional study\n",
    "data = data[data['Function?'] == 'Yes']\n",
    "print(data.shape)"
   ]
  },
  {
   "cell_type": "code",
   "execution_count": 7,
   "metadata": {},
   "outputs": [],
   "source": [
    "# define your keywords:\n",
    "keyword = ['hypoplastic','syndrome','congenital','CHD','LVAD','device','TAVR','aortic stenosis',\\\n",
    "           'stenosis','failure','thinning','hypokinesis','hypokinetic','akinesis','akinetic','dyskinesis','dyskinetic','wall motion','normal']\n",
    "#keyword = ['hypokinesis','hypokinetic','akinesis','akinetic','dyskinesis','dyskinetic','wall motion']"
   ]
  },
  {
   "cell_type": "code",
   "execution_count": 10,
   "metadata": {},
   "outputs": [
    {
     "name": "stdout",
     "output_type": "stream",
     "text": [
      "finish\n",
      "756\n"
     ]
    }
   ],
   "source": [
    "# make rtf files as well as a spreadsheet for highlight sentences\n",
    "make_rtf_file = 1\n",
    "os.makedirs(save_path,exist_ok = True)\n",
    "make_spreadsheet = 1\n",
    "spreadsheet_name = year + '_Radiology_report_w_highlight.xlsx'\n",
    "column_list = ['Patient_ID','Keywords','Highlight text','Report text','Acession','Manufacturer','Model','Sex','Age','Protocol','Directories_Full','Directories_Function','Timeframes']\n",
    "\n",
    "count = 0\n",
    "data = data.fillna(0)\n",
    "spreadsheet = []\n",
    "for i in range(0,data.shape[0]):\n",
    "    case = data.iloc[i]\n",
    "    if case['Report text'] == 0:\n",
    "        continue\n",
    "        \n",
    "    has_keyword,keyword_list,highlight_sentence,highlight_txt = find_highlighted_sentence_w_keyword(case,keyword)\n",
    "    \n",
    "    if has_keyword == 1:\n",
    "        count += 1\n",
    "        if make_rtf_file == 1:\n",
    "            make_highlighted_rtf_report(case,highlight_sentence,save_path)\n",
    "        \n",
    "        spreadsheet.append([case['Patient_ID'],keyword_list,highlight_txt,case['Report text'],case['Accession'],case['Manufacturer'],case['Model'],case['Sex'],\\\n",
    "                        case['Age'],case['Protocol'],case['Directories_Full'],\\\n",
    "                        case['Directories_Function'],case['Timeframes']])\n",
    "print('finish')\n",
    "print(count)\n",
    "                        \n",
    "if make_spreadsheet == 1:\n",
    "    df = pd.DataFrame(spreadsheet,columns = column_list)\n",
    "    df.to_excel(os.path.join(os.path.dirname(save_path),spreadsheet_name),index = True)"
   ]
  },
  {
   "cell_type": "code",
   "execution_count": null,
   "metadata": {},
   "outputs": [],
   "source": []
  }
 ],
 "metadata": {
  "kernelspec": {
   "display_name": "Python 3",
   "language": "python",
   "name": "python3"
  },
  "language_info": {
   "codemirror_mode": {
    "name": "ipython",
    "version": 3
   },
   "file_extension": ".py",
   "mimetype": "text/x-python",
   "name": "python",
   "nbconvert_exporter": "python",
   "pygments_lexer": "ipython3",
   "version": "3.6.10"
  }
 },
 "nbformat": 4,
 "nbformat_minor": 4
}
