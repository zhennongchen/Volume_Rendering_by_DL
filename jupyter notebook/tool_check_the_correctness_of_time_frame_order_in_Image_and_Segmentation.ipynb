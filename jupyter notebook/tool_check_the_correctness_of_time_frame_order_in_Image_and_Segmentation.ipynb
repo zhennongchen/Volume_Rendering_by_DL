{
 "cells": [
  {
   "cell_type": "code",
   "execution_count": 1,
   "metadata": {},
   "outputs": [],
   "source": [
    "import os\n",
    "import numpy as np\n",
    "import nibabel as nib\n",
    "import function_list_VR as ff\n",
    "from PIL import Image"
   ]
  },
  {
   "cell_type": "code",
   "execution_count": 2,
   "metadata": {},
   "outputs": [],
   "source": [
    "main_folder = '/Volumes/Seagate MacOS'\n",
    "nas_folder = '/Volumes/McVeighLab/wip/zhennong/'"
   ]
  },
  {
   "cell_type": "code",
   "execution_count": 3,
   "metadata": {},
   "outputs": [],
   "source": [
    "# define patient\n",
    "patient = ['Abnormal','CVC1908300959_CRT']"
   ]
  },
  {
   "cell_type": "code",
   "execution_count": 4,
   "metadata": {},
   "outputs": [
    {
     "name": "stdout",
     "output_type": "stream",
     "text": [
      "seg folder is  seg-pred-0.625-4classes\n",
      "[1173460, 1083154, 921203, 740725, 634104, 621664, 1023283, 1100998, 1127629, 1160282]\n",
      "seg folder is  seg-pred-0.625-4classes-connected\n",
      "[1173459, 1083150, 921203, 740649, 634101, 621651, 1023283, 1100981, 1127623, 1160279]\n",
      "seg folder is  seg-pred-0.625-4classes-connected-retouch\n",
      "[1173459, 1083233, 921447, 740840, 634158, 621651, 1023283, 1101104, 1127623, 1160366]\n",
      "seg folder is  seg-pred-0.625-4classes-connected-retouch-downsample\n",
      "[35793, 32957, 28183, 22672, 19362, 18940, 31229, 33570, 34328, 35356]\n"
     ]
    }
   ],
   "source": [
    "# check segmentation\n",
    "seg_folder_list = [os.path.join(main_folder,'predicted_seg',patient[0],patient[1],'seg-pred-0.625-4classes'),\n",
    "                   os.path.join(main_folder,'predicted_seg',patient[0],patient[1],'seg-pred-0.625-4classes-connected'),\n",
    "                   os.path.join(main_folder,'predicted_seg',patient[0],patient[1],'seg-pred-0.625-4classes-connected-retouch'),\n",
    "                   os.path.join(main_folder,'predicted_seg',patient[0],patient[1],'seg-pred-0.625-4classes-connected-retouch-downsample')]\n",
    "\n",
    "for i in range(0,len(seg_folder_list)):\n",
    "    print('seg folder is ',os.path.basename(seg_folder_list[i]))\n",
    "    seg_folder = seg_folder_list[i]\n",
    "    nii_files = ff.sort_timeframe(ff.find_all_target_files(['pred_*.nii.gz'],seg_folder),2,'_')\n",
    "    vol_list = []\n",
    "    for j in range(0,len(nii_files)):\n",
    "        count,_ = ff.count_pixel(nib.load(nii_files[j]).get_fdata(),1)\n",
    "        vol_list.append(count)\n",
    "        \n",
    "    print(vol_list)   \n",
    "    \n",
    "    "
   ]
  },
  {
   "cell_type": "code",
   "execution_count": 5,
   "metadata": {},
   "outputs": [
    {
     "name": "stdout",
     "output_type": "stream",
     "text": [
      "img folder is  /Volumes/Seagate MacOS/upsampled-nii-images/Abnormal/CVC1908300959_CRT/img-nii-0.625\n",
      "img folder is  /Volumes/McVeighLab/wip/zhennong/nii-images/Abnormal/CVC1908300959_CRT/img-nii-0.625\n",
      "img folder is  /Volumes/McVeighLab/wip/zhennong/nii-images/Abnormal/CVC1908300959_CRT/img-nii-1.5\n",
      "img folder is  /Volumes/McVeighLab/wip/zhennong/nii-images/Abnormal/CVC1908300959_CRT/img-nii\n"
     ]
    }
   ],
   "source": [
    "# check images\n",
    "img_folder_list = [os.path.join(main_folder,'upsampled-nii-images',patient[0],patient[1],'img-nii-0.625'),\n",
    "                os.path.join(nas_folder,'nii-images',patient[0],patient[1],'img-nii-0.625'),\n",
    "                  os.path.join(nas_folder,'nii-images',patient[0],patient[1],'img-nii-1.5'),\n",
    "                  os.path.join(nas_folder,'nii-images',patient[0],patient[1],'img-nii')]\n",
    "\n",
    "for i in range(0,len(img_folder_list)):\n",
    "    print('img folder is ',img_folder_list[i])\n",
    "    img_folder = img_folder_list[i]\n",
    "    nii_files = ff.sort_timeframe(ff.find_all_target_files(['*.nii.gz'],img_folder),2)\n",
    "    \n",
    "    for j in range(0,len(nii_files)):\n",
    "        img = nib.load(nii_files[j]).get_fdata()\n",
    "        view_size = [int(img.shape[0] / 8 * 1) , int(img.shape[0]/8*7)]\n",
    "        view_plane = ff.set_window(img[view_size[0]:view_size[1],view_size[0]:view_size[1],int(img.shape[-1]/2)],500,800)\n",
    "        I = np.zeros((view_size[1]-view_size[0],view_size[1]-view_size[0],3))\n",
    "        I[:,:,0] = view_plane; I[:,:,1] = view_plane; I[:,:,2] = view_plane\n",
    "        Image.fromarray((I * 255).astype('uint8')).save(str(j)+'.png')\n",
    "        \n",
    "    pngs = ff.sort_timeframe(ff.find_all_target_files(['*.png'],'/Users/zhennongchen/Documents/GitHub/Volume_Rendering_by_DL/jupyter notebook'),1)\n",
    "    ff.make_movies(patient[0]+'_'+patient[1]+'_'+str(i)+'.mp4',pngs,10)\n",
    "    for p in pngs:\n",
    "        os.remove(p)\n",
    "        \n"
   ]
  },
  {
   "cell_type": "code",
   "execution_count": null,
   "metadata": {},
   "outputs": [],
   "source": []
  }
 ],
 "metadata": {
  "kernelspec": {
   "display_name": "Python 3",
   "language": "python",
   "name": "python3"
  },
  "language_info": {
   "codemirror_mode": {
    "name": "ipython",
    "version": 3
   },
   "file_extension": ".py",
   "mimetype": "text/x-python",
   "name": "python",
   "nbconvert_exporter": "python",
   "pygments_lexer": "ipython3",
   "version": "3.6.10"
  }
 },
 "nbformat": 4,
 "nbformat_minor": 4
}
