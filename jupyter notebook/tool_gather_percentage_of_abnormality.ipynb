{
 "cells": [
  {
   "cell_type": "markdown",
   "metadata": {},
   "source": [
    "this script will read the WMA_regions_measures_per_angle.mat for each case and gather the info about the percentage of abnormality (severe and moderate)"
   ]
  },
  {
   "cell_type": "code",
   "execution_count": 35,
   "metadata": {},
   "outputs": [],
   "source": [
    "import os\n",
    "import numpy as np\n",
    "import function_list_VR as ff\n",
    "import pandas as pd\n",
    "import scipy.io"
   ]
  },
  {
   "cell_type": "code",
   "execution_count": 47,
   "metadata": {},
   "outputs": [],
   "source": [
    "main_folder = '/Volumes/Seagate MacOS/Volume_Rendering_Movies_MATLAB'\n",
    "patient_list = ff.find_all_target_files(['Abnormal/*','Normal/*'],main_folder)"
   ]
  },
  {
   "cell_type": "code",
   "execution_count": 48,
   "metadata": {},
   "outputs": [],
   "source": [
    "mat_file_name = 'WMA_regions_measures_per_angle_-0.2_-0.1.mat'"
   ]
  },
  {
   "cell_type": "code",
   "execution_count": 49,
   "metadata": {},
   "outputs": [
    {
     "name": "stdout",
     "output_type": "stream",
     "text": [
      "313\n"
     ]
    }
   ],
   "source": [
    "Data_collection = []\n",
    "for p in patient_list:\n",
    "    patient_id = os.path.basename(p)\n",
    "    patient_class = os.path.basename(os.path.dirname(p))\n",
    "    #print(patient_class,patient_id)\n",
    "    \n",
    "    patient_data = [patient_class, patient_id]\n",
    "    \n",
    "    mat_file = os.path.join(p,'WMA_measures_-0.2_-0.1' , mat_file_name)\n",
    "    data = scipy.io.loadmat(mat_file)['WMA_patches_measures'][0]\n",
    "    \n",
    "    for i in range(6):\n",
    "        angle = int(data[i][0][0][0])\n",
    "        percentage_WMA_total = round(float(data[i][6][0][0]),2)\n",
    "        percentage_WMA_moderate = round(float(data[i][11][0][0]),2)\n",
    "        percentage_WMA_severe = round(float(data[i][16][0][0]),2)\n",
    "        #print(angle,percentage_WMA_total, percentage_WMA_moderate, percentage_WMA_severe)\n",
    "        patient_data = patient_data + [angle,percentage_WMA_total, percentage_WMA_moderate, percentage_WMA_severe,'']\n",
    "    \n",
    "    Data_collection.append(patient_data)\n",
    "print(len(Data_collection))"
   ]
  },
  {
   "cell_type": "code",
   "execution_count": 50,
   "metadata": {},
   "outputs": [],
   "source": [
    "column_list = ['Patient_Class', 'Patient_ID']\n",
    "for i in range(6):\n",
    "    angle = 60 * i;\n",
    "    column_list += ['Angle_'+str(angle), 'Percent_WMA_total_'+str(angle), 'Percent_WMA_moderate_'+str(angle),\n",
    "                   'Percent_WMA_severe_'+str(angle), 'Classification_'+str(angle)]\n",
    "\n",
    "df = pd.DataFrame(Data_collection, columns = column_list)\n",
    "df.to_excel(os.path.join('/Users/zhennongchen/Documents/Zhennong_VR/Patient_List/WMA_percent_List_-0.2_-0.1.xlsx'),index = False)\n",
    "    \n"
   ]
  },
  {
   "cell_type": "code",
   "execution_count": null,
   "metadata": {},
   "outputs": [],
   "source": []
  }
 ],
 "metadata": {
  "kernelspec": {
   "display_name": "Python 3",
   "language": "python",
   "name": "python3"
  },
  "language_info": {
   "codemirror_mode": {
    "name": "ipython",
    "version": 3
   },
   "file_extension": ".py",
   "mimetype": "text/x-python",
   "name": "python",
   "nbconvert_exporter": "python",
   "pygments_lexer": "ipython3",
   "version": "3.8.5"
  }
 },
 "nbformat": 4,
 "nbformat_minor": 4
}
