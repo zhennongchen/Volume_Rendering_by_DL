{
 "cells": [
  {
   "cell_type": "markdown",
   "metadata": {},
   "source": [
    "this script creates a final patient list used for Volume rendering project"
   ]
  },
  {
   "cell_type": "code",
   "execution_count": 2,
   "metadata": {},
   "outputs": [],
   "source": [
    "import os\n",
    "import numpy as np\n",
    "import function_list_VR as ff\n",
    "import pandas as pd"
   ]
  },
  {
   "cell_type": "code",
   "execution_count": 34,
   "metadata": {},
   "outputs": [],
   "source": [
    "main_data_path = '/Volumes/McVeighLab/wip/zhennong/'\n",
    "main_info_path = '/Users/zhennongchen/Documents/Zhennong_CT_Data/Patient_Overview'\n",
    "patient_list = ff.find_all_target_files(['Abnormal/*','Normal/*'],os.path.join(main_data_path,'nii-images'))\n",
    "normal_info = pd.read_csv(os.path.join(main_info_path,'Case_search_list/normal_candidates.csv'))\n",
    "abnormal_info = pd.read_csv(os.path.join(main_info_path,'Case_search_list/abnormal_candidates.csv'))\n",
    "entire_info = [normal_info,abnormal_info]\n",
    "timeframe_info = pd.read_csv(os.path.join(main_info_path,'Case_search_list/time_frame_assignment_for_pretrained_AI_prediction.csv'))"
   ]
  },
  {
   "cell_type": "code",
   "execution_count": 45,
   "metadata": {},
   "outputs": [],
   "source": [
    "for count in range(0,len(patient_list)):\n",
    "    p = patient_list[count]\n",
    "    patient_id = os.path.basename(p)\n",
    "    patient_class = os.path.basename(os.path.dirname(p))\n",
    "    \n",
    "    \n",
    "    if patient_class == 'Abnormal':\n",
    "        info = entire_info[1]\n",
    "    else:\n",
    "        info = entire_info[0]\n",
    "    \n",
    "    assert (patient_id in info.Patient_ID.values) == True\n",
    "    assert (patient_id in timeframe_info.Patient_ID.values) == True\n",
    "    \n",
    "    t = timeframe_info.loc[timeframe_info['Patient_ID'] == patient_id]\n",
    "    t = t.iloc[:,1:t.shape[1]]\n",
    "    \n",
    "    i = info.loc[info['Patient_ID'] == patient_id]\n",
    "    i = i.iloc[:,1:i.shape[1]]\n",
    "    \n",
    "    if count == 0:\n",
    "        final_list = pd.merge(t, i, on='Patient_ID')\n",
    "    else:\n",
    "        final_list = pd.concat([final_list,pd.merge(t, i, on='Patient_ID')],axis = 0)\n",
    "   "
   ]
  },
  {
   "cell_type": "code",
   "execution_count": 46,
   "metadata": {},
   "outputs": [
    {
     "name": "stdout",
     "output_type": "stream",
     "text": [
      "['Patient_Class' 'Patient_ID' 'ZC_notes' 'ED/ES' 'Timeframe_picked'\n",
      " 'Total_timeframes' 'Keywords' 'Highlight text' 'Report text' 'Acession'\n",
      " 'Manufacturer' 'Model' 'Sex' 'Age' 'Protocol'] (375, 15)\n"
     ]
    }
   ],
   "source": [
    "# add one empty column\n",
    "final_list.insert(2,'ZC_notes','')\n",
    "print(final_list.columns.values,final_list.shape)"
   ]
  },
  {
   "cell_type": "code",
   "execution_count": 47,
   "metadata": {},
   "outputs": [],
   "source": [
    "final_list.to_excel(os.path.join(main_info_path,'Case_search_list/Final_patient_list.xlsx'),index=True)"
   ]
  },
  {
   "cell_type": "code",
   "execution_count": null,
   "metadata": {},
   "outputs": [],
   "source": []
  }
 ],
 "metadata": {
  "kernelspec": {
   "display_name": "Python 3",
   "language": "python",
   "name": "python3"
  },
  "language_info": {
   "codemirror_mode": {
    "name": "ipython",
    "version": 3
   },
   "file_extension": ".py",
   "mimetype": "text/x-python",
   "name": "python",
   "nbconvert_exporter": "python",
   "pygments_lexer": "ipython3",
   "version": "3.6.10"
  }
 },
 "nbformat": 4,
 "nbformat_minor": 4
}
