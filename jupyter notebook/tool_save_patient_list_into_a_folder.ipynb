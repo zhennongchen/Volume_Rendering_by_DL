{
 "cells": [
  {
   "cell_type": "markdown",
   "metadata": {},
   "source": [
    "this script can make patient list as folders so matlab can read the list"
   ]
  },
  {
   "cell_type": "code",
   "execution_count": 1,
   "metadata": {},
   "outputs": [],
   "source": [
    "import os\n",
    "import pandas as pd\n",
    "import numpy as np\n",
    "import function_list_VR as ff"
   ]
  },
  {
   "cell_type": "markdown",
   "metadata": {},
   "source": [
    "## make the list of patients whose segmentation is done"
   ]
  },
  {
   "cell_type": "code",
   "execution_count": 2,
   "metadata": {},
   "outputs": [],
   "source": [
    "data = pd.read_csv('/Users/zhennongchen/Documents/Zhennong_CT_Data/Patient_Overview/Case_search_list/Final_patient_list_exclude.csv')"
   ]
  },
  {
   "cell_type": "code",
   "execution_count": 3,
   "metadata": {},
   "outputs": [],
   "source": [
    "data = data.fillna(0)"
   ]
  },
  {
   "cell_type": "code",
   "execution_count": 4,
   "metadata": {},
   "outputs": [
    {
     "name": "stdout",
     "output_type": "stream",
     "text": [
      "174 139\n"
     ]
    }
   ],
   "source": [
    "patient_list = []\n",
    "normal_done = 0\n",
    "abnormal_done = 0\n",
    "for i in range(0,data.shape[0]):\n",
    "    case = data.iloc[i]\n",
    "    patient_class = case['Patient_Class']\n",
    "    patient_id = case['Patient_ID']\n",
    "    if case['retouch_predicted'] == 'done':\n",
    "        patient_list.append([patient_class,patient_id])\n",
    "        if patient_class == 'Normal':\n",
    "            normal_done += 1\n",
    "        if patient_class == 'Abnormal':\n",
    "            abnormal_done += 1\n",
    "                          \n",
    "print(normal_done,abnormal_done)        "
   ]
  },
  {
   "cell_type": "code",
   "execution_count": 5,
   "metadata": {},
   "outputs": [],
   "source": [
    "main_folder = '/Volumes/Seagate MacOS/Patient_list'\n",
    "for p in patient_list:\n",
    "    folder = os.path.join(main_folder,'Retouched_Seg_Done',p[0],p[1])\n",
    "    ff.make_folder([os.path.dirname(os.path.dirname(folder)),os.path.dirname(folder),folder])"
   ]
  },
  {
   "cell_type": "markdown",
   "metadata": {},
   "source": [
    "## Make list for training data with two classes"
   ]
  },
  {
   "cell_type": "code",
   "execution_count": 6,
   "metadata": {},
   "outputs": [],
   "source": [
    "data = pd.read_csv('/Users/zhennongchen/Documents/Zhennong_SQUEEZ/Patient_list/Training_and_Testing_data_two_classes.csv')\n",
    "save_folder = '/Users/zhennongchen/Documents/Zhennong_SQUEEZ/Patient_list/Lists/Training_data_two_classes/'\n",
    "main_folder = '/Volumes/Seagate MacOS/'"
   ]
  },
  {
   "cell_type": "code",
   "execution_count": 7,
   "metadata": {},
   "outputs": [
    {
     "name": "stdout",
     "output_type": "stream",
     "text": [
      "Abnormal CVC1802051130\n",
      "Abnormal CVC1802161049\n",
      "Abnormal CVC1806081445\n",
      "Abnormal CVC1901241836\n",
      "Abnormal CVC1901281219\n",
      "Abnormal CVC1902081532\n",
      "Abnormal CVC1904081524\n",
      "Abnormal CVC1904220946\n",
      "Abnormal CVC1904221041\n",
      "Abnormal CVC1907251518\n",
      "Abnormal CVC1909191511_Sept_WMA_dyssynch\n",
      "Abnormal CVC1912060934\n",
      "Abnormal CVC1912121107\n",
      "Abnormal CVC1912181517\n",
      "Abnormal CVC1912300903\n",
      "Abnormal CVC2002061040\n",
      "Abnormal CVC2002131112\n",
      "Abnormal CVC2003191153\n",
      "Abnormal CVC2005150910\n",
      "Abnormal CVC2005201013\n",
      "Abnormal CVC2006261457\n",
      "Normal AN11_1801231052\n",
      "Normal CVC1811161121\n",
      "Normal CVC1812261354\n",
      "Normal CVC1812271121\n",
      "Normal CVC1905310931\n",
      "Normal CVC1907020903\n",
      "Normal CVC1907110858\n",
      "Normal CVC1907261529\n",
      "Normal CVC2001170927\n",
      "Normal CVC1802161350\n",
      "Normal CVC1803071006\n",
      "Normal CVC1808021026_AN51\n",
      "Normal CVC1907261606_AN101\n",
      "Normal CVC1907291123_AN91\n",
      "Normal CVC1908020911_AN111\n",
      "Normal CVC1908211452_AN121\n",
      "Normal CVC1909121046_AN131\n",
      "Normal CVC1909301536_AN151\n",
      "Normal CVC2002241126\n",
      "Normal CVC2002271407\n",
      "Normal CVC2002110853_AN161\n",
      "21 21\n"
     ]
    }
   ],
   "source": [
    "abnormal_count = 0\n",
    "normal_count = 0\n",
    "for i in range(0,data.shape[0]):\n",
    "    case = data.iloc[i]\n",
    "    patient_class = case['Patient_Class']\n",
    "    patient_id = case['Patient_ID']\n",
    "    \n",
    "    if case['train (TR) /test (TT)'] == 'TR':\n",
    "        if os.path.isdir(os.path.join(main_folder,'SQUEEZ_results',patient_class,patient_id)) == 1:\n",
    "            print(patient_class,patient_id)\n",
    "            if patient_class == 'Abnormal':\n",
    "                abnormal_count +=1\n",
    "            else:\n",
    "                normal_count +=1\n",
    "            ff.make_folder([os.path.join(save_folder,patient_class,patient_id)])\n",
    "print(abnormal_count, normal_count)"
   ]
  },
  {
   "cell_type": "code",
   "execution_count": null,
   "metadata": {},
   "outputs": [],
   "source": []
  }
 ],
 "metadata": {
  "kernelspec": {
   "display_name": "Python 3",
   "language": "python",
   "name": "python3"
  },
  "language_info": {
   "codemirror_mode": {
    "name": "ipython",
    "version": 3
   },
   "file_extension": ".py",
   "mimetype": "text/x-python",
   "name": "python",
   "nbconvert_exporter": "python",
   "pygments_lexer": "ipython3",
   "version": "3.8.5"
  }
 },
 "nbformat": 4,
 "nbformat_minor": 4
}
