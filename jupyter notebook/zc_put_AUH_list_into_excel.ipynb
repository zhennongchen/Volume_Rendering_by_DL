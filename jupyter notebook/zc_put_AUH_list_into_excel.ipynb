{
 "cells": [
  {
   "cell_type": "code",
   "execution_count": 141,
   "metadata": {},
   "outputs": [],
   "source": [
    "from mat4py import loadmat\n",
    "import os\n",
    "import random\n",
    "import numpy as np\n",
    "import zc_function_list as ff"
   ]
  },
  {
   "cell_type": "code",
   "execution_count": 84,
   "metadata": {},
   "outputs": [
    {
     "name": "stdout",
     "output_type": "stream",
     "text": [
      "42\n",
      "363\n"
     ]
    }
   ],
   "source": [
    "data = loadmat('/Users/zhennongchen/Documents/Zhennong_CT_Data/AUH/AUH_list.mat')\n",
    "lack_list = data['lack']\n",
    "path_list = data['path_list']\n",
    "print(len(lack_list))\n",
    "print(len(path_list))"
   ]
  },
  {
   "cell_type": "code",
   "execution_count": 85,
   "metadata": {},
   "outputs": [
    {
     "name": "stdout",
     "output_type": "stream",
     "text": [
      "['111pre', '112pre', '127pre', '128post', '132pre', '136pre', '138pre', '142pre', '144pre', '155pre', '16pre', '167post', '17post', '17pre', '174post', '174pre', '180post', '22pre', '24pre', '25post', '27pre', '30post', '42post', '46pre', '49pre', '56pre', '63pre', '65pre', '66pre', '7_pre', '70post', '70pre', '74pre', '78pre', '79pre', '81post', '84pre', '89pre', '91post', '92pre', '97post', '97pre'] 42\n"
     ]
    }
   ],
   "source": [
    "lack_list_trim =[]\n",
    "for i in lack_list:\n",
    "    lack_list_trim.append(i.strip())\n",
    "lack_list = lack_list_trim\n",
    "print(lack_list,len(lack_list))"
   ]
  },
  {
   "cell_type": "code",
   "execution_count": 86,
   "metadata": {},
   "outputs": [
    {
     "name": "stdout",
     "output_type": "stream",
     "text": [
      "363\n"
     ]
    }
   ],
   "source": [
    "path_list_trim = []\n",
    "for i in path_list:\n",
    "    path_list_trim.append(os.path.basename(i).strip())\n",
    "path_list = path_list_trim\n",
    "print(len(path_list))"
   ]
  },
  {
   "cell_type": "code",
   "execution_count": 87,
   "metadata": {},
   "outputs": [
    {
     "name": "stdout",
     "output_type": "stream",
     "text": [
      "321\n"
     ]
    }
   ],
   "source": [
    "path_no_lack = []\n",
    "l = []\n",
    "for i in path_list:\n",
    "    if i in lack_list:\n",
    "        l.append(i)\n",
    "    else:\n",
    "        path_no_lack.append(i)\n",
    "print(len(path_no_lack))"
   ]
  },
  {
   "cell_type": "markdown",
   "metadata": {},
   "source": [
    "## get patient_id and pre/post"
   ]
  },
  {
   "cell_type": "code",
   "execution_count": 88,
   "metadata": {},
   "outputs": [],
   "source": [
    "def find_id(s):\n",
    "    num = [i for i, e in enumerate(s) if e == 'p'][-1] \n",
    "    if s[num-1] == '_':\n",
    "        return s[0:num-1],s[num:len(s)+1]\n",
    "    else:\n",
    "        return s[0:num],s[num:len(s)+1]\n",
    "        "
   ]
  },
  {
   "cell_type": "code",
   "execution_count": 104,
   "metadata": {},
   "outputs": [
    {
     "name": "stdout",
     "output_type": "stream",
     "text": [
      "['62', '152', '157', '75', '84', '2', '147', '108', '96', '47', '69', '178', '111', '67', '78', '17', '120', '151', '134', '5', '138', '80', '36', '145', '122', '89', '4', '40', '51', '33', '15', '59', '107', '95', '110', '79', '180', '101', '23', '129', '37', '126', '105', '119', '175', '38', '54', '135', '163', '45', '167', '173', '21', '143', '93', '106', '139', '161', '170', '65', '171', '181', '127', '61', '24', '160', '34', '104', '18', '16', '57', '30', '6', '99', '112', '140', '97', '64', '154', '74', '176', '3', '58', '128', '144', '172', '158', '117', '121', '52', '156', '123', '50', '116', '164', '14', '159', '103', '82', '91', '86', '55', '102', '88', '25', '46', '19', '28', '100', '7', '10', '136', '35', '43', '114', '66', '1', '142', '165', '150', '27', '56', '146', '77', '124', '26', '76', '83', '29', '132', '130', '168', '90', '68', '166', '32', '71', '149', '87', '162', '9', '20', '137', '85', '153', '155', '98', '48', '49', '115', '8', '113', '182', '73', '60', '148', '53', '169', '174', '70', '11', '94', '92', '31', '22', '131', '41', '125', '141', '13', '109', '42', '179', '177', '12', '63', '44', '81', '118', '133', '39', '72'] 182\n"
     ]
    }
   ],
   "source": [
    "# get patient_id list for patient_no_lack\n",
    "patient_id_raw = []\n",
    "patient_id_random = []\n",
    "for i in path_list:\n",
    "    patient_id_raw.append(find_id(i)[0])\n",
    "    patient_id_random.append(find_id(i)[0])\n",
    "patient_id_random = list(dict.fromkeys(patient_id_random))\n",
    "\n",
    "random.shuffle(patient_id_random)\n",
    "print(patient_id_random,len(patient_id_random))"
   ]
  },
  {
   "cell_type": "code",
   "execution_count": 137,
   "metadata": {},
   "outputs": [],
   "source": [
    "# sort patient_list based on patient_id_random_shuffle\n",
    "patient_id_random = np.asarray(patient_id_random)\n",
    "patient_id_raw= np.asarray(patient_id_raw)\n",
    "\n",
    "path_list_shuffle = []\n",
    "\n",
    "for i in range(0,patient_id_random.shape[0]):\n",
    "    nn = np.where(patient_id_raw == patient_id_random[i])[0]\n",
    "    for a in nn:\n",
    "        path_list_shuffle.append(path_list[a])"
   ]
  },
  {
   "cell_type": "code",
   "execution_count": 139,
   "metadata": {},
   "outputs": [],
   "source": [
    "result = ()\n",
    "for j in path_list_shuffle:\n",
    "    p_id,p_pre = find_id(j)\n",
    "    if j in lack_list:\n",
    "        result = (*result,[p_id,p_pre,'No'])\n",
    "    else:\n",
    "        result = (*result,[p_id,p_pre,'Yes'])\n",
    "\n"
   ]
  },
  {
   "cell_type": "code",
   "execution_count": 143,
   "metadata": {},
   "outputs": [],
   "source": [
    "par_list = [('Patient_ID',1),('pre/post',1),('DICOM exist?',1)]\n",
    "ff.xlsx_save('AUH_list_random.xlsx',result,par_list,list(range(0,3)))"
   ]
  },
  {
   "cell_type": "code",
   "execution_count": null,
   "metadata": {},
   "outputs": [],
   "source": []
  }
 ],
 "metadata": {
  "kernelspec": {
   "display_name": "Python 3",
   "language": "python",
   "name": "python3"
  },
  "language_info": {
   "codemirror_mode": {
    "name": "ipython",
    "version": 3
   },
   "file_extension": ".py",
   "mimetype": "text/x-python",
   "name": "python",
   "nbconvert_exporter": "python",
   "pygments_lexer": "ipython3",
   "version": "3.6.10"
  }
 },
 "nbformat": 4,
 "nbformat_minor": 4
}
