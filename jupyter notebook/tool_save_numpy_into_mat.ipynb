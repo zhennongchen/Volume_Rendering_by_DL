{
 "cells": [
  {
   "cell_type": "markdown",
   "metadata": {},
   "source": [
    "this script can save numpy arrays we've got from python into mat file used in matlab"
   ]
  },
  {
   "cell_type": "code",
   "execution_count": 1,
   "metadata": {},
   "outputs": [],
   "source": [
    "import scipy.io as sio\n",
    "import os\n",
    "import numpy as np\n",
    "import glob\n",
    "import nibabel as nib\n",
    "import matplotlib.pyplot as plt\n",
    "import zc_function_list as ff"
   ]
  },
  {
   "cell_type": "markdown",
   "metadata": {},
   "source": [
    "## save image / seg matrix"
   ]
  },
  {
   "cell_type": "code",
   "execution_count": 2,
   "metadata": {},
   "outputs": [
    {
     "name": "stdout",
     "output_type": "stream",
     "text": [
      "11\n"
     ]
    }
   ],
   "source": [
    "raw_path = '/Volumes/McVeighLab/projects/Zhennong/AI/CNN/all-classes-all-phases-1.5/'\n",
    "patients = ff.find_all_target_files(['ucsd_siemens/*'],raw_path)\n",
    "print(len(patients))"
   ]
  },
  {
   "cell_type": "code",
   "execution_count": 3,
   "metadata": {},
   "outputs": [
    {
     "name": "stdout",
     "output_type": "stream",
     "text": [
      "ucsd_siemens 261237\n",
      "ucsd_siemens 261241\n",
      "ucsd_siemens 262829\n",
      "ucsd_siemens 264803\n",
      "ucsd_siemens 273960\n",
      "ucsd_siemens 274369\n",
      "ucsd_siemens 277235\n",
      "ucsd_siemens 277834\n",
      "ucsd_siemens 279711\n",
      "ucsd_siemens 279950\n",
      "ucsd_siemens 304225\n",
      "finish\n"
     ]
    }
   ],
   "source": [
    "for patient in patients:\n",
    "    patient_name = os.path.basename(patient)\n",
    "    patient_class = os.path.basename(os.path.dirname(patient))\n",
    "    patient_id = patient_class + '/' + patient_name\n",
    "    print(patient_class,patient_name)\n",
    "    \n",
    "    image_mat_folder = os.path.join(patient,'img-mat-sm')\n",
    "    seg_mat_folder = os.path.join(patient,'seg-mat-sm')\n",
    "    \n",
    "    if os.path.isdir(image_mat_folder) == 1:\n",
    "        if os.path.isdir(seg_mat_folder) == 1:\n",
    "            print('already done.Skip')\n",
    "            continue\n",
    "    \n",
    "    # find all the image data\n",
    "    ff.make_folder([image_mat_folder])\n",
    "    \n",
    "    images = ff.find_all_target_files(['img-nii-sm/*'],patient)\n",
    "    for image in images:\n",
    "        imgdata = nib.load(image).get_fdata()\n",
    "        time_frame = ff.find_timeframe(image,2)\n",
    "        save_file = os.path.join(image_mat_folder,str(time_frame)+'.mat')\n",
    "        #print(save_file)\n",
    "        sio.savemat(save_file, {'image':imgdata})\n",
    "        \n",
    "    # find all the segmentation\n",
    "\n",
    "    ff.make_folder([seg_mat_folder])\n",
    "    \n",
    "    segs = ff.find_all_target_files(['seg-nii-sm/*'],patient)\n",
    "    for seg in segs:\n",
    "        segdata = nib.load(seg).get_fdata()\n",
    "        time_frame = ff.find_timeframe(seg,2)\n",
    "        save_file = os.path.join(seg_mat_folder,str(time_frame)+'.mat')\n",
    "        #print(save_file)\n",
    "        sio.savemat(save_file, {'segmentation':segdata})\n",
    "    \n",
    "    \n",
    "print('finish')"
   ]
  },
  {
   "cell_type": "code",
   "execution_count": 25,
   "metadata": {},
   "outputs": [
    {
     "data": {
      "text/plain": [
       "False"
      ]
     },
     "execution_count": 25,
     "metadata": {},
     "output_type": "execute_result"
    }
   ],
   "source": [
    "os.path.isfile(image_mat_folder)"
   ]
  },
  {
   "cell_type": "markdown",
   "metadata": {},
   "source": [
    "## read mat"
   ]
  },
  {
   "cell_type": "code",
   "execution_count": 19,
   "metadata": {},
   "outputs": [
    {
     "name": "stdout",
     "output_type": "stream",
     "text": [
      "[0.6066923142056444, -0.7782331361064657, 0.16210373761790625]\n"
     ]
    }
   ],
   "source": [
    "from mat4py import loadmat\n",
    "\n",
    "data = loadmat('ucsd_pv_CVC1804021022_par.mat')\n",
    "print(data['final_x'])"
   ]
  }
 ],
 "metadata": {
  "kernelspec": {
   "display_name": "Python 3",
   "language": "python",
   "name": "python3"
  },
  "language_info": {
   "codemirror_mode": {
    "name": "ipython",
    "version": 3
   },
   "file_extension": ".py",
   "mimetype": "text/x-python",
   "name": "python",
   "nbconvert_exporter": "python",
   "pygments_lexer": "ipython3",
   "version": "3.6.10"
  }
 },
 "nbformat": 4,
 "nbformat_minor": 2
}
